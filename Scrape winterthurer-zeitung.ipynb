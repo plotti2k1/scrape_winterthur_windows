{
 "cells": [
  {
   "cell_type": "code",
   "execution_count": 43,
   "id": "a42d5df6",
   "metadata": {},
   "outputs": [
    {
     "name": "stdout",
     "output_type": "stream",
     "text": [
      "CPU times: user 124 ms, sys: 48.1 ms, total: 172 ms\n",
      "Wall time: 608 ms\n"
     ]
    },
    {
     "data": {
      "text/plain": [
       "'«Ein Poulet ist ein Huhn, fertig»'"
      ]
     },
     "execution_count": 43,
     "metadata": {},
     "output_type": "execute_result"
    }
   ],
   "source": [
    "%%time\n",
    "from pathlib import Path\n",
    "import datetime\n",
    "import pytz\n",
    "from itertools import chain\n",
    "import requests\n",
    "from bs4 import BeautifulSoup\n",
    "html_content = requests.get(\"https://www.winterthurer-zeitung.ch/\").text\n",
    "soup = BeautifulSoup(html_content)\n",
    "main_headline = soup.select(\".article h2 a\")[0].text.strip()\n",
    "main_headline"
   ]
  },
  {
   "cell_type": "code",
   "execution_count": 34,
   "id": "fb0b409c",
   "metadata": {},
   "outputs": [],
   "source": []
  },
  {
   "cell_type": "code",
   "execution_count": 39,
   "id": "62a96524",
   "metadata": {},
   "outputs": [],
   "source": [
    "#for entry in soup.select(\"h2 a\"):\n",
    "#    print(entry.text.strip())"
   ]
  },
  {
   "cell_type": "code",
   "execution_count": 19,
   "id": "4c171ddf",
   "metadata": {},
   "outputs": [
    {
     "data": {
      "text/plain": [
       "'«Ein Poulet ist ein Huhn, fertig»'"
      ]
     },
     "execution_count": 19,
     "metadata": {},
     "output_type": "execute_result"
    }
   ],
   "source": [
    "main_headline = soup.select(\".article h2 a\")[0].text.strip()\n",
    "main_headline"
   ]
  },
  {
   "cell_type": "code",
   "execution_count": 40,
   "id": "b49e040f",
   "metadata": {},
   "outputs": [
    {
     "data": {
      "text/plain": [
       "'\\n- 11:06 27.10.23 «Ein Poulet ist ein Huhn, fertig»'"
      ]
     },
     "execution_count": 40,
     "metadata": {},
     "output_type": "execute_result"
    }
   ],
   "source": [
    "main_headline = \"\\n- \" + datetime.datetime.now().strftime(\"%H:%M %d.%m.%y\") + \" \" + main_headline\n",
    "main_headline"
   ]
  },
  {
   "cell_type": "code",
   "execution_count": 27,
   "id": "f9719809",
   "metadata": {},
   "outputs": [
    {
     "data": {
      "text/plain": [
       "'Wie der Traum vom Eigenheim entgleitet – und wie er doch noch wahr werden könnte'"
      ]
     },
     "execution_count": 27,
     "metadata": {},
     "output_type": "execute_result"
    }
   ],
   "source": [
    "# Watson\n",
    "html_content = requests.get(\"https://www.watson.ch/\").text\n",
    "soup = BeautifulSoup(html_content)^\n",
    "soup.select(\".md\\:gap-4:nth-child(3) .lg\\:leading-5+ .px-2\")[0].text"
   ]
  },
  {
   "cell_type": "code",
   "execution_count": null,
   "id": "5e945c41",
   "metadata": {},
   "outputs": [],
   "source": []
  },
  {
   "cell_type": "markdown",
   "id": "fe42102d",
   "metadata": {},
   "source": [
    "- plotti was here\n",
    "- test123"
   ]
  },
  {
   "cell_type": "code",
   "execution_count": null,
   "id": "06e426be",
   "metadata": {},
   "outputs": [],
   "source": []
  }
 ],
 "metadata": {
  "kernelspec": {
   "display_name": "aaa",
   "language": "python",
   "name": "aaa"
  },
  "language_info": {
   "codemirror_mode": {
    "name": "ipython",
    "version": 3
   },
   "file_extension": ".py",
   "mimetype": "text/x-python",
   "name": "python",
   "nbconvert_exporter": "python",
   "pygments_lexer": "ipython3",
   "version": "3.8.13"
  }
 },
 "nbformat": 4,
 "nbformat_minor": 5
}
