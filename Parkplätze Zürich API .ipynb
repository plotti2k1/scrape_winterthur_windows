{
 "cells": [
  {
   "cell_type": "markdown",
   "metadata": {},
   "source": [
    "# Parkplätze Zürich"
   ]
  },
  {
   "cell_type": "code",
   "execution_count": 22,
   "metadata": {},
   "outputs": [
    {
     "data": {
      "text/plain": [
       "[['Parkhaus Accu / Otto-Schütz-Weg', '167', '25.10.23 14:57:01'],\n",
       " ['Parkhaus Albisriederplatz / Badenerstrasse 380', '', '25.10.23 14:57:01'],\n",
       " ['Parkhaus Bleicherweg / Beethovenstrasse 35', '', '25.10.23 14:57:01'],\n",
       " ['Parkhaus Center Eleven / Sophie-Täuber-Strasse 4',\n",
       "  '224',\n",
       "  '25.10.23 14:57:01'],\n",
       " ['Parkhaus City Parking / Gessnerallee 14', '22', '25.10.23 14:57:01'],\n",
       " ['Parkhaus Cityport / Affolternstrasse 56', '68', '25.10.23 14:57:01'],\n",
       " ['Parkhaus Crowne Plaza / Badenerstrasse 420', '', '25.10.23 14:57:01'],\n",
       " ['Parkhaus Dorflinde / Schwamendingenstrasse 31', '34', '25.10.23 14:57:01'],\n",
       " ['Parkhaus Feldegg / Riesbachstrasse 7', '18', '25.10.23 14:57:01'],\n",
       " ['Parkhaus Globus / Löwenstrasse 50', '2', '25.10.23 14:57:01'],\n",
       " ['Parkhaus Hardau II / Bullingerstrasse 73', '57', '25.10.23 14:57:01'],\n",
       " ['Parkhaus Hauptbahnhof / Sihlquai 41', '38', '25.10.23 14:57:01'],\n",
       " ['Parkhaus Helvetiaplatz / Molkenstrasse 5/9', '29', '25.10.23 14:57:01'],\n",
       " ['Parkhaus Hohe Promenade / Rämistrasse 22a', '169', '25.10.23 14:57:01'],\n",
       " ['Parkhaus Jelmoli / Steinmühleplatz 1', '0', '25.10.23 14:57:01'],\n",
       " ['Parkhaus Jungholz / Jungholzstrasse 19', '117', '25.10.23 14:57:01'],\n",
       " ['Parkhaus Max-Bill-Platz / Armin-Bollinger-Weg', '74', '25.10.23 14:57:01'],\n",
       " ['Parkhaus Messe Zürich AG / Andreasstrasse 65', '999', '25.10.23 14:57:01'],\n",
       " ['Parkhaus Nordhaus / Siewerdtstrasse 8', '69', '25.10.23 14:57:01'],\n",
       " ['Parkhaus Octavo / Brown-Boveri-Strasse 2', '70', '25.10.23 14:57:01'],\n",
       " ['Parkhaus Opéra / Schillerstrasse 5', '59', '25.10.23 14:57:01'],\n",
       " ['Parkhaus P West / Förrlibuckstrasse 151', '268', '25.10.23 14:57:01'],\n",
       " ['Parkhaus Park Hyatt / Beethovenstrasse 21', '37', '25.10.23 14:57:01'],\n",
       " ['Parkhaus Parkside / Sophie-Täuber-Strasse 10', '0', '25.10.23 14:57:01'],\n",
       " ['Parkhaus Pfingstweid / Pfingstweidstrasse 1', '106', '25.10.23 14:57:01'],\n",
       " ['Parkhaus Stampfenbach / Niklausstrasse 1', '123', '25.10.23 14:57:01'],\n",
       " ['Parkhaus Talgarten / Nüschelerstrasse 31', '1', '25.10.23 14:57:01'],\n",
       " ['Parkhaus USZ Nord / Frauenklinikstrasse', '1', '25.10.23 14:57:01'],\n",
       " ['Parkhaus Uni Irchel / Winterthurerstrasse 181', '129', '25.10.23 14:57:01'],\n",
       " ['Parkhaus Urania / Uraniastrasse 3', '29', '25.10.23 14:57:01'],\n",
       " ['Parkhaus Utoquai / Färberstrasse 6', '6', '25.10.23 14:57:01'],\n",
       " ['Parkhaus Züri 11 Shopping / Nansenstrasse 5/7', '14', '25.10.23 14:57:01'],\n",
       " ['Parkhaus Zürichhorn / Dufourstrasse 142', '15', '25.10.23 14:57:01'],\n",
       " ['Parkplatz Theater 11 / Dörfli-/Thurgauerstrasse',\n",
       "  '145',\n",
       "  '25.10.23 14:57:01'],\n",
       " ['Parkplatz USZ Süd / Gloriastrasse', '5', '25.10.23 14:57:01'],\n",
       " ['Puls 5 Parkgarage / Giessereistrasse 18', '10', '25.10.23 14:57:01']]"
      ]
     },
     "execution_count": 22,
     "metadata": {},
     "output_type": "execute_result"
    }
   ],
   "source": [
    "import requests\n",
    "from bs4 import BeautifulSoup\n",
    "import pandas as pd\n",
    "from datetime import datetime\n",
    "now = datetime.now()\n",
    "\n",
    "r = requests.get('https://www.pls-zh.ch/plsFeed/rss') \n",
    "soup = BeautifulSoup(r.text, 'html.parser')\n",
    "items_list = soup.find_all('item')\n",
    "parkings = []\n",
    "for item in items_list:\n",
    "    open_places = item.find('description').text\n",
    "    open_places_just_number = ''.join(x for x in open_places if x.isdigit())\n",
    "    parkings.append([item.find('title').text,open_places_just_number,now.strftime(\"%d.%m.%y %H:%M:%S\")])\n",
    "parkings"
   ]
  },
  {
   "cell_type": "code",
   "execution_count": 25,
   "metadata": {},
   "outputs": [
    {
     "name": "stdout",
     "output_type": "stream",
     "text": [
      "Done\n"
     ]
    }
   ],
   "source": [
    "with open(\"API_PARKING.md\", \"w+\") as f:\n",
    "    for entry in parkings:\n",
    "        # write each item on a new line\n",
    "        f.write(\"%s\\n\" % \",\".join(entry))\n",
    "    print('Done')"
   ]
  }
 ],
 "metadata": {
  "kernelspec": {
   "display_name": "Python 3 (ipykernel)",
   "language": "python",
   "name": "python3"
  },
  "language_info": {
   "codemirror_mode": {
    "name": "ipython",
    "version": 3
   },
   "file_extension": ".py",
   "mimetype": "text/x-python",
   "name": "python",
   "nbconvert_exporter": "python",
   "pygments_lexer": "ipython3",
   "version": "3.9.12"
  }
 },
 "nbformat": 4,
 "nbformat_minor": 2
}
